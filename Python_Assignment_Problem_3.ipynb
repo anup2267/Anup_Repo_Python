{
  "nbformat": 4,
  "nbformat_minor": 0,
  "metadata": {
    "colab": {
      "provenance": [],
      "toc_visible": true,
      "authorship_tag": "ABX9TyPfWVYls1kJFTHoPUk3d9c0",
      "include_colab_link": true
    },
    "kernelspec": {
      "name": "python3",
      "display_name": "Python 3"
    },
    "language_info": {
      "name": "python"
    }
  },
  "cells": [
    {
      "cell_type": "markdown",
      "metadata": {
        "id": "view-in-github",
        "colab_type": "text"
      },
      "source": [
        "<a href=\"https://colab.research.google.com/github/anup2267/Anup_Repo_Python/blob/main/Python_Assignment_Problem_3.ipynb\" target=\"_parent\"><img src=\"https://colab.research.google.com/assets/colab-badge.svg\" alt=\"Open In Colab\"/></a>"
      ]
    },
    {
      "cell_type": "markdown",
      "source": [
        "**Python_Assignment_Problem_3**"
      ],
      "metadata": {
        "id": "LJ8Vr_rYb8x8"
      }
    },
    {
      "cell_type": "markdown",
      "source": [
        "Write a Python function to sum all the numbers in a list.\n",
        "\n",
        "Sample List : [8, 2, 3, 0, 7]\n",
        "Expected Output : 20\n",
        "Explanation:\n",
        "Summation should like 8+2+3+0+7 = 20\n"
      ],
      "metadata": {
        "id": "Ao_qqm1ccEt5"
      }
    },
    {
      "cell_type": "code",
      "source": [
        "numbers = [8, 2, 3, 0, 7]\n",
        "\n",
        "\n",
        "total = sum(numbers)\n",
        "\n",
        "\n",
        "print(\"Sum of numbers in the list:\", total)\n",
        "\n"
      ],
      "metadata": {
        "colab": {
          "base_uri": "https://localhost:8080/"
        },
        "id": "89DKY6UccHR7",
        "outputId": "3d05b598-3188-4b1e-a671-2cb624cd1561"
      },
      "execution_count": null,
      "outputs": [
        {
          "output_type": "stream",
          "name": "stdout",
          "text": [
            "Sum of numbers in the list: 20\n"
          ]
        }
      ]
    }
  ]
}