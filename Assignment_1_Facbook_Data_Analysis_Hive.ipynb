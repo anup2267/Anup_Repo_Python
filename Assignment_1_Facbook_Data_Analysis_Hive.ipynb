{
  "nbformat": 4,
  "nbformat_minor": 0,
  "metadata": {
    "colab": {
      "provenance": [],
      "authorship_tag": "ABX9TyPnxLcjgAVHRM4GCjfEB8iU",
      "include_colab_link": true
    },
    "kernelspec": {
      "name": "python3",
      "display_name": "Python 3"
    },
    "language_info": {
      "name": "python"
    }
  },
  "cells": [
    {
      "cell_type": "markdown",
      "metadata": {
        "id": "view-in-github",
        "colab_type": "text"
      },
      "source": [
        "<a href=\"https://colab.research.google.com/github/anup2267/Anup_Repo_Python/blob/main/Assignment_1_Facbook_Data_Analysis_Hive.ipynb\" target=\"_parent\"><img src=\"https://colab.research.google.com/assets/colab-badge.svg\" alt=\"Open In Colab\"/></a>"
      ]
    },
    {
      "cell_type": "code",
      "execution_count": null,
      "metadata": {
        "id": "1lWTe5xqoM84"
      },
      "outputs": [],
      "source": [
        "CREATE TABLE facebook (\n",
        "    userid INT,\n",
        "    age INT,\n",
        "    dob_day INT,\n",
        "    dob_year INT,\n",
        "    dob_month INT,\n",
        "    gender STRING,\n",
        "    tenure INT,\n",
        "    friend_count INT,\n",
        "    friendships_initiated INT,\n",
        "    likes INT,\n",
        "    likes_received INT,\n",
        "    mobile_likes INT,\n",
        "    mobile_likes_received INT,\n",
        "    www_likes INT,\n",
        "    www_likes_received INT\n",
        ")\n",
        "ROW FORMAT DELIMITED\n",
        "FIELDS TERMINATED BY ','\n",
        "STORED AS TEXTFILE;"
      ]
    },
    {
      "cell_type": "code",
      "source": [
        "LOAD DATA local INPATH 'pseudo_facebook.csv' OVERWRITE INTO TABLE facebook;"
      ],
      "metadata": {
        "id": "MEIU9fAyoPjl"
      },
      "execution_count": null,
      "outputs": []
    },
    {
      "cell_type": "markdown",
      "source": [
        "Q1: Find out the total no of users in the database"
      ],
      "metadata": {
        "id": "YeTbxbo1oVqz"
      }
    },
    {
      "cell_type": "code",
      "source": [
        "SELECT COUNT(*) AS total_users FROM facebook;"
      ],
      "metadata": {
        "id": "Z0zIjr1toWBv"
      },
      "execution_count": null,
      "outputs": []
    },
    {
      "cell_type": "markdown",
      "source": [
        "Q2: Find out the no of users above the age of 25\n"
      ],
      "metadata": {
        "id": "Axb9vVz1oWQ0"
      }
    },
    {
      "cell_type": "code",
      "source": [
        "SELECT COUNT(*) AS users_above_25 FROM facebook WHERE age > 25;"
      ],
      "metadata": {
        "id": "cKibIcr_oWeF"
      },
      "execution_count": null,
      "outputs": []
    },
    {
      "cell_type": "markdown",
      "source": [
        "Q3: Do male face book users tend to have more friends or female users"
      ],
      "metadata": {
        "id": "t-ye-KaQoWtM"
      }
    },
    {
      "cell_type": "code",
      "source": [
        "SELECT gender,AVG(friend_count) AS average_friend_count FROM facebook GROUP BY gender;"
      ],
      "metadata": {
        "id": "Pa1YUmV8oW7B"
      },
      "execution_count": null,
      "outputs": []
    },
    {
      "cell_type": "markdown",
      "source": [
        "Q4: How many likes do young people receive on facebook as opposed to old people\n"
      ],
      "metadata": {
        "id": "_Q2W-JNeoXIS"
      }
    },
    {
      "cell_type": "code",
      "source": [
        "SELECT age_group,SUM(likes_received) AS total_likes_received FROM (SELECT CASE WHEN age < 30 THEN 'Young' ELSE 'Old' END AS age_group, likes_received FROM facebook) subquery GROUP BY age_group;"
      ],
      "metadata": {
        "id": "VZF7XXYloXV2"
      },
      "execution_count": null,
      "outputs": []
    },
    {
      "cell_type": "markdown",
      "source": [
        "Q5: Find out the count of facebook users for each birthday month"
      ],
      "metadata": {
        "id": "5HAO2G63oXi2"
      }
    },
    {
      "cell_type": "code",
      "source": [
        "SELECT dob_month, COUNT(*) AS user_count FROM facebook GROUP BY dob_month ORDER BY dob_month;"
      ],
      "metadata": {
        "id": "R6z-sah-oXwI"
      },
      "execution_count": null,
      "outputs": []
    },
    {
      "cell_type": "markdown",
      "source": [
        "Q6: Do young members use mobile phones or computers for facebook browsing"
      ],
      "metadata": {
        "id": "HP7hxMDFoX85"
      }
    },
    {
      "cell_type": "code",
      "source": [
        "WITH age_device AS (\n",
        "    SELECT\n",
        "        CASE\n",
        "            WHEN age < 30 THEN 'Young'\n",
        "            ELSE 'Old'\n",
        "        END AS age_group,\n",
        "        CASE\n",
        "            WHEN mobile_likes > 0 THEN 'Mobile'\n",
        "            ELSE 'Computer'\n",
        "        END AS device_type\n",
        "    FROM facebook\n",
        ")\n",
        "SELECT\n",
        "    age_group,\n",
        "    device_type,\n",
        "    COUNT(*) AS user_count\n",
        "FROM age_device\n",
        "GROUP BY age_group, device_type;"
      ],
      "metadata": {
        "id": "COAUEWluoYL_"
      },
      "execution_count": null,
      "outputs": []
    },
    {
      "cell_type": "markdown",
      "source": [
        "Q7: Do adult members use mobile phones or computers for facebook browsing"
      ],
      "metadata": {
        "id": "XXu45WNboYjc"
      }
    },
    {
      "cell_type": "code",
      "source": [
        "SELECT\n",
        "    age_group,\n",
        "    device_type,\n",
        "    COUNT(*) AS user_count\n",
        "FROM (\n",
        "    SELECT\n",
        "        CASE WHEN age >= 18 THEN 'Adult' ELSE 'Not Adult' END AS age_group,\n",
        "        CASE WHEN mobile_likes > 0 THEN 'Mobile' ELSE 'Computer' END AS device_type\n",
        "    FROM facebook\n",
        ") subquery\n",
        "GROUP BY age_group, device_type;"
      ],
      "metadata": {
        "id": "q_21NgVioYzF"
      },
      "execution_count": null,
      "outputs": []
    }
  ]
}