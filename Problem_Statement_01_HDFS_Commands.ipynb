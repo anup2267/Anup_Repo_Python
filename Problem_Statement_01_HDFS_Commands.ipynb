{
  "nbformat": 4,
  "nbformat_minor": 0,
  "metadata": {
    "colab": {
      "provenance": [],
      "toc_visible": true,
      "authorship_tag": "ABX9TyO/Oo72pd1sECNprVBEXKZd",
      "include_colab_link": true
    },
    "kernelspec": {
      "name": "python3",
      "display_name": "Python 3"
    },
    "language_info": {
      "name": "python"
    }
  },
  "cells": [
    {
      "cell_type": "markdown",
      "metadata": {
        "id": "view-in-github",
        "colab_type": "text"
      },
      "source": [
        "<a href=\"https://colab.research.google.com/github/anup2267/Anup_Repo_Python/blob/main/Problem_Statement_01_HDFS_Commands.ipynb\" target=\"_parent\"><img src=\"https://colab.research.google.com/assets/colab-badge.svg\" alt=\"Open In Colab\"/></a>"
      ]
    },
    {
      "cell_type": "markdown",
      "source": [
        "1.Create a folder in HDFS by name “dir01” and move input1.txt , input2.txt and input3.txt into\n",
        "/dir01.\n"
      ],
      "metadata": {
        "id": "si24diXe8O2p"
      }
    },
    {
      "cell_type": "code",
      "source": [
        "$> hdfs dfs -mkdir /user/anupruser1/dir01\n",
        "$> hdfs dfs -ls\n",
        "\n",
        "\n"
      ],
      "metadata": {
        "id": "eheN5KxH4jMu"
      },
      "execution_count": null,
      "outputs": []
    },
    {
      "cell_type": "markdown",
      "source": [
        "2.List only the file names present in “/dir01”"
      ],
      "metadata": {
        "id": "Kv_zqM9k8g0q"
      }
    },
    {
      "cell_type": "code",
      "source": [
        "$> hdfs dfs -put input1.txt input2.txt input3.txt /user/anupruser1/dir01/\n",
        "$> hdfs dfs -ls /user/anupruser1/dir01/"
      ],
      "metadata": {
        "id": "8iOlaxez8hNJ"
      },
      "execution_count": null,
      "outputs": []
    },
    {
      "cell_type": "markdown",
      "source": [
        "3.Change the replication factor for the content present in directory “/dir01” to 5 and display\n",
        "the replication factor for the files present in “/dir01”.\n"
      ],
      "metadata": {
        "id": "yYYd-GzM8hn9"
      }
    },
    {
      "cell_type": "code",
      "source": [
        "$> hdfs dfs -setrep 5 /user/anupruser1/dir01/*\n",
        "$> hdfs dfs -ls /user/anupruser1/dir01/"
      ],
      "metadata": {
        "id": "1vaUbv7E9zmW"
      },
      "execution_count": null,
      "outputs": []
    },
    {
      "cell_type": "markdown",
      "source": [
        "4.Create a folder in HDFS by name “scenario01” and create directory “level01” inside\n",
        "“scenario01” directory and create another directory “level02” inside directory “level01”.\n",
        "Once the required directories are created copy input1.txt to scenario01, input2.txt to level01\n",
        "and input3.txt to level02 and finally recursively print only the file names present in\n",
        "directory scenario01\n",
        "/user/naveen/scenario01/input1.txt\n",
        "/user/naveen/scenario01/level01\n",
        "/user/naveen/scenario01/level01/input1.txt\n",
        "/user/naveen/scenario01/level01/level02\n",
        "/user/naveen/scenario01/level02\n",
        "/user/naveen/scenario01/level03\n"
      ],
      "metadata": {
        "id": "-B_P5qYp8iRH"
      }
    },
    {
      "cell_type": "code",
      "source": [
        "$> hdfs dfs -mkdir -p /user/anupruser1/scenario01/level01/level02"
      ],
      "metadata": {
        "id": "NS8hU4189yEK"
      },
      "execution_count": null,
      "outputs": []
    },
    {
      "cell_type": "code",
      "source": [
        "$> hdfs dfs -put input1.txt /user/anupruser1/scenario01/\n",
        "$> hdfs dfs -put input2.txt /user/anupruser1/scenario01/level01/\n",
        "$> hdfs dfs -put input3.txt /user/anupruser1/scenario01/level01/level02/"
      ],
      "metadata": {
        "id": "DLITz7co8iiV"
      },
      "execution_count": null,
      "outputs": []
    },
    {
      "cell_type": "markdown",
      "source": [],
      "metadata": {
        "id": "IiLqo8538iyM"
      }
    },
    {
      "cell_type": "code",
      "source": [
        "$> hdfs dfs -ls  /user/anupruser1/scenario01/\n",
        "\n",
        "$> hdfs dfs -ls /user/anupruser1/dir01/ | grep \"^-\" | awk '{print $NF}'"
      ],
      "metadata": {
        "id": "0wMA4JCM8jBk"
      },
      "execution_count": null,
      "outputs": []
    }
  ]
}