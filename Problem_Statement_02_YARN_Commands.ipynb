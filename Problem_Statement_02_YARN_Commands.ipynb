{
  "nbformat": 4,
  "nbformat_minor": 0,
  "metadata": {
    "colab": {
      "provenance": [],
      "authorship_tag": "ABX9TyMCoBbVj3U7TWhkCNvleroF",
      "include_colab_link": true
    },
    "kernelspec": {
      "name": "python3",
      "display_name": "Python 3"
    },
    "language_info": {
      "name": "python"
    }
  },
  "cells": [
    {
      "cell_type": "markdown",
      "metadata": {
        "id": "view-in-github",
        "colab_type": "text"
      },
      "source": [
        "<a href=\"https://colab.research.google.com/github/anup2267/Anup_Repo_Python/blob/main/Problem_Statement_02_YARN_Commands.ipynb\" target=\"_parent\"><img src=\"https://colab.research.google.com/assets/colab-badge.svg\" alt=\"Open In Colab\"/></a>"
      ]
    },
    {
      "cell_type": "markdown",
      "source": [
        "1.Run MapReduce Program and capture the application Id of the job."
      ],
      "metadata": {
        "id": "9JizCLLUG0lA"
      }
    },
    {
      "cell_type": "code",
      "source": [
        "# Run your MapReduce program\n",
        "cd hadoop-mapreduce\n",
        "yarn jar hadoop-mapreduce-examples-3.0.0-cdh6.2.1.jar\n",
        "\n",
        "# Capture the application ID\n",
        "applicationId=$(yarn application -list | awk 'NR>2 {print $1; exit}')\n",
        "\n",
        "echo \"Application ID: $applicationId\""
      ],
      "metadata": {
        "id": "byxL2tLgG2MY"
      },
      "execution_count": null,
      "outputs": []
    },
    {
      "cell_type": "markdown",
      "source": [
        "2.Re-run the MapReduce program and kill the application using the yarn command.\n"
      ],
      "metadata": {
        "id": "pkWjH-LPG2n_"
      }
    },
    {
      "cell_type": "code",
      "source": [
        "# Re-run your MapReduce program\n",
        "cd hadoop-mapreduce\n",
        "yarn jar hadoop-mapreduce-examples-3.0.0-cdh6.2.1.jar\n",
        "\n",
        "# Capture the application ID again\n",
        "applicationId=$(yarn application -list | awk 'NR>2 {print $1; exit}')\n",
        "\n",
        "# Kill the application using the captured application ID\n",
        "yarn application -kill $applicationId"
      ],
      "metadata": {
        "id": "zvat1J7dG23X"
      },
      "execution_count": null,
      "outputs": []
    },
    {
      "cell_type": "markdown",
      "source": [
        "3.List all the applications which are RUNNING state"
      ],
      "metadata": {
        "id": "j3U568LkG3IC"
      }
    },
    {
      "cell_type": "code",
      "source": [
        "yarn application -list -appStates RUNNING\n"
      ],
      "metadata": {
        "id": "JI_IDxyIG3XJ"
      },
      "execution_count": null,
      "outputs": []
    },
    {
      "cell_type": "markdown",
      "source": [
        "4.View the logs of any of the jobs which are already completed."
      ],
      "metadata": {
        "id": "jYAM_3SeG3mx"
      }
    },
    {
      "cell_type": "code",
      "source": [
        "yarn logs -applicationId <your_completed_application_id>"
      ],
      "metadata": {
        "id": "TDOaam92G30V"
      },
      "execution_count": null,
      "outputs": []
    }
  ]
}