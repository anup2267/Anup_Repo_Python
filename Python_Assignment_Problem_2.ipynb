{
  "nbformat": 4,
  "nbformat_minor": 0,
  "metadata": {
    "colab": {
      "provenance": [],
      "toc_visible": true,
      "authorship_tag": "ABX9TyNl6lk6ROyx3x9UyQ3+Ap7q",
      "include_colab_link": true
    },
    "kernelspec": {
      "name": "python3",
      "display_name": "Python 3"
    },
    "language_info": {
      "name": "python"
    }
  },
  "cells": [
    {
      "cell_type": "markdown",
      "metadata": {
        "id": "view-in-github",
        "colab_type": "text"
      },
      "source": [
        "<a href=\"https://colab.research.google.com/github/anup2267/Anup_Repo_Python/blob/main/Python_Assignment_Problem_2.ipynb\" target=\"_parent\"><img src=\"https://colab.research.google.com/assets/colab-badge.svg\" alt=\"Open In Colab\"/></a>"
      ]
    },
    {
      "cell_type": "code",
      "execution_count": null,
      "metadata": {
        "id": "1E-wmuovaO9R"
      },
      "outputs": [],
      "source": []
    },
    {
      "cell_type": "markdown",
      "source": [
        "**Python_Assignment_Problem_2**"
      ],
      "metadata": {
        "id": "NrTZ48FKaP5F"
      }
    },
    {
      "cell_type": "markdown",
      "source": [
        "Write a program that prompts the user to input number of calls and calculate the monthly telephone bills as per the following rule:\n",
        "\n",
        "● Minimum Rs. 200 for up to 100 calls.\n",
        "● Plus Rs. 0.60 per call for next 50 calls.\n",
        "● Plus Rs. 0.50 per call for next 50 calls.\n",
        "● Plus Rs. 0.40 per call for any call beyond 200 calls.\n"
      ],
      "metadata": {
        "id": "S8sbUAwxaVI0"
      }
    },
    {
      "cell_type": "code",
      "source": [
        "num_calls = int(input(\"Enter the number of calls: \"))\n",
        "\n",
        "\n",
        "base_charge = 200\n",
        "additional_charge = 0\n",
        "\n",
        "# Calculate additional charges based on the number of calls\n",
        "if num_calls > 100:\n",
        "    additional_charge += 50 * 0.60  # For the next 50 calls\n",
        "    if num_calls > 150:\n",
        "        additional_charge += 50 * 0.50  # For the next 50 calls\n",
        "        if num_calls > 200:\n",
        "            additional_charge += (num_calls - 200) * 0.40  # For any calls beyond 200\n",
        "\n",
        "\n",
        "total_bill = base_charge + additional_charge\n",
        "\n",
        "\n",
        "print(\"Monthly telephone bill: Rs.\", total_bill)\n"
      ],
      "metadata": {
        "colab": {
          "base_uri": "https://localhost:8080/"
        },
        "id": "gEZ5tmuaaecQ",
        "outputId": "098ec23e-ec1a-4891-ec00-c82067ade2b7"
      },
      "execution_count": null,
      "outputs": [
        {
          "output_type": "stream",
          "name": "stdout",
          "text": [
            "Enter the number of calls: 101\n",
            "Monthly telephone bill: Rs. 230.0\n"
          ]
        }
      ]
    }
  ]
}