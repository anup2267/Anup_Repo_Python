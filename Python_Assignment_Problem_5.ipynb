{
  "nbformat": 4,
  "nbformat_minor": 0,
  "metadata": {
    "colab": {
      "provenance": [],
      "toc_visible": true,
      "authorship_tag": "ABX9TyPUsLSPrwN2w/WN7vNgeQbE",
      "include_colab_link": true
    },
    "kernelspec": {
      "name": "python3",
      "display_name": "Python 3"
    },
    "language_info": {
      "name": "python"
    }
  },
  "cells": [
    {
      "cell_type": "markdown",
      "metadata": {
        "id": "view-in-github",
        "colab_type": "text"
      },
      "source": [
        "<a href=\"https://colab.research.google.com/github/anup2267/Anup_Repo_Python/blob/main/Python_Assignment_Problem_5.ipynb\" target=\"_parent\"><img src=\"https://colab.research.google.com/assets/colab-badge.svg\" alt=\"Open In Colab\"/></a>"
      ]
    },
    {
      "cell_type": "markdown",
      "source": [
        "**Python_Assignment_Problem_5**"
      ],
      "metadata": {
        "id": "DaPElUszc-Re"
      }
    },
    {
      "cell_type": "markdown",
      "source": [
        "\n",
        "Write a Python function that accepts a string and calculates the number of uppercase letters and lowercase letters.\n",
        "\n",
        "Sample String: 'The quick Brow Fox'\n",
        "Expected Output :\n",
        "No. of Upper case characters : 3\n",
        "No. of Lower case Characters: 12\n"
      ],
      "metadata": {
        "id": "1zOO-dZGdDFE"
      }
    },
    {
      "cell_type": "code",
      "source": [
        "\n",
        "def count_upper_lower(string):\n",
        "\n",
        "    upper_count = 0\n",
        "    lower_count = 0\n",
        "\n",
        "\n",
        "    for char in string:\n",
        "        if char.isupper():\n",
        "            upper_count += 1\n",
        "        elif char.islower():\n",
        "            lower_count += 1\n",
        "\n",
        "    print(\"No. of Upper case characters:\", upper_count)\n",
        "    print(\"No. of Lower case characters:\", lower_count)\n",
        "\n",
        "\n",
        "sample_string = 'The quick Brow Fox'\n",
        "\n",
        "\n",
        "count_upper_lower(sample_string)\n"
      ],
      "metadata": {
        "colab": {
          "base_uri": "https://localhost:8080/"
        },
        "id": "PnWFzHeUdMA2",
        "outputId": "b0a90091-20f8-4074-9a0f-492de043a3c8"
      },
      "execution_count": null,
      "outputs": [
        {
          "output_type": "stream",
          "name": "stdout",
          "text": [
            "No. of Upper case characters: 3\n",
            "No. of Lower case characters: 12\n"
          ]
        }
      ]
    }
  ]
}