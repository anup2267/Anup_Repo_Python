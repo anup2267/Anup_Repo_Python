{
  "nbformat": 4,
  "nbformat_minor": 0,
  "metadata": {
    "colab": {
      "provenance": [],
      "toc_visible": true,
      "authorship_tag": "ABX9TyNDrgVjDSWwmIttj4xuOj/x",
      "include_colab_link": true
    },
    "kernelspec": {
      "name": "python3",
      "display_name": "Python 3"
    },
    "language_info": {
      "name": "python"
    }
  },
  "cells": [
    {
      "cell_type": "markdown",
      "metadata": {
        "id": "view-in-github",
        "colab_type": "text"
      },
      "source": [
        "<a href=\"https://colab.research.google.com/github/anup2267/Anup_Repo_Python/blob/main/Python_Assignment_Problem_6_7.ipynb\" target=\"_parent\"><img src=\"https://colab.research.google.com/assets/colab-badge.svg\" alt=\"Open In Colab\"/></a>"
      ]
    },
    {
      "cell_type": "markdown",
      "source": [
        "# **Python_Assignment_Problem_6**"
      ],
      "metadata": {
        "id": "bTn-4_1WTIm1"
      }
    },
    {
      "cell_type": "markdown",
      "source": [
        "\n",
        "Challenge 1: Square Numbers and Return Their Sum\n",
        "🔴 In this challenge, you need to implement a method that squares passing variables and returns their sum.\n",
        "Problem statement: Implement a class Point that has three properties and a method. All these attributes (properties and methods) should be public. This problem can be broken down into two tasks:\n",
        "Task 1: 👉 Implement a constructor to initialize the values of three properties: x, y, and z.\n",
        "Task 2: 👉 Implement a method, sqSum(), in the Point class which squares x, y, and z and returns their sum.\n",
        "Sample properties 1, 3, 5\n",
        "Sample method output 35\n",
        "\n",
        "Coding exercise Create a class Point with three properties: x, y, and z.\n",
        "class Point:\n",
        "\n",
        "    def __init__(self):\n",
        "        self.x = x\n",
        "        self.y = y\n",
        "        self.z = z\n",
        "\n",
        "    def sqSum(self):\n",
        "        pass\n",
        "\n"
      ],
      "metadata": {
        "id": "8dPw3wBKTJRB"
      }
    },
    {
      "cell_type": "code",
      "source": [
        "class Point:\n",
        "    def __init__(self, x, y, z):\n",
        "        self.x = x\n",
        "        self.y = y\n",
        "        self.z = z\n",
        "\n",
        "    def sqSum(self):\n",
        "        return self.x**2 + self.y**2 + self.z**2\n",
        "\n",
        "# Create an instance of the Point class\n",
        "point_instance = Point(1, 3, 5)\n",
        "\n",
        "# Call the sqSum method\n",
        "result = point_instance.sqSum()\n",
        "print(result)  # Output: 35\n"
      ],
      "metadata": {
        "colab": {
          "base_uri": "https://localhost:8080/"
        },
        "id": "nErudN1ZTa19",
        "outputId": "1da0a0b1-4091-4956-89ac-a32d3bd20172"
      },
      "execution_count": null,
      "outputs": [
        {
          "output_type": "stream",
          "name": "stdout",
          "text": [
            "35\n"
          ]
        }
      ]
    },
    {
      "cell_type": "markdown",
      "source": [
        "**Python_Assignment_Problem_7**"
      ],
      "metadata": {
        "id": "8GCTwCm8VRew"
      }
    },
    {
      "cell_type": "markdown",
      "source": [
        "Challenge 2: Implement a Calculator Class\n",
        "🔴 In this exercise, you have to implement a calculator that can perform addition, subtraction, multiplication, and division.\n",
        "Problem statement Write a Python class called Calculator by completing the tasks below:\n",
        "Task 1\n",
        "👉 Initializer\n",
        "Implement an initializer to initialize the values of num1 and num2. Properties\n",
        "• num1\n",
        "• num2\n",
        "Task 2\n",
        "👉 Methods\n",
        "• add() is a method that returns the sum of num1 and num2.\n",
        "• subtract() is a method that returns the subtraction of num1 from num2.\n",
        "• multiply() is a method that returns the product of num1 and num2.\n",
        "• divide() is a method that returns the division of num2 by num1.\n",
        "Input - Pass numbers (integers or floats) in the initializer.\n",
        "Output - addition, subtraction, division, and multiplication\n",
        "Sample input\n",
        "obj = Calculator(10, 94)\n",
        "obj.add()\n",
        "obj.subtract()\n",
        "obj.multiply()\n",
        "obj.divide()\n",
        "Sample output\n",
        "104\n",
        "84\n",
        "940\n",
        "9.4\n",
        "Coding exercise\n",
        "class Calculator:\n",
        "\n",
        "    def __init__(self):\n",
        "        pass\n",
        "    def add(self):\n",
        "        pass\n",
        "    def subtract(self):\n",
        "        pass\n",
        "    def multiply(self):\n",
        "        pass\n",
        "    def divide(self):\n"
      ],
      "metadata": {
        "id": "aJVveLp-VbaP"
      }
    },
    {
      "cell_type": "code",
      "source": [
        "class Calculator:\n",
        "\n",
        "    def __init__(self, num1, num2):\n",
        "        self.num1 = num1\n",
        "        self.num2 = num2\n",
        "\n",
        "    def add(self):\n",
        "        return self.num1 + self.num2\n",
        "\n",
        "    def subtract(self):\n",
        "        return self.num2 - self.num1\n",
        "\n",
        "    def multiply(self):\n",
        "        return self.num1 * self.num2\n",
        "\n",
        "    def divide(self):\n",
        "        # Checking for division by zero\n",
        "        if self.num1 == 0:\n",
        "            return \"Cannot divide by zero\"\n",
        "        else:\n",
        "            return self.num2 / self.num1\n",
        "\n",
        "\n",
        "obj = Calculator(10, 94)\n",
        "\n",
        "\n",
        "print(obj.add())\n",
        "print(obj.subtract())\n",
        "print(obj.multiply())\n",
        "print(obj.divide())\n"
      ],
      "metadata": {
        "colab": {
          "base_uri": "https://localhost:8080/"
        },
        "id": "epMSqOV6V2rM",
        "outputId": "0a710f4f-c805-4630-fe31-02091d73f1e9"
      },
      "execution_count": null,
      "outputs": [
        {
          "output_type": "stream",
          "name": "stdout",
          "text": [
            "104\n",
            "84\n",
            "940\n",
            "9.4\n"
          ]
        }
      ]
    }
  ]
}