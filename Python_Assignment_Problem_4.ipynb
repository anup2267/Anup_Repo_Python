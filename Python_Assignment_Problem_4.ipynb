{
  "nbformat": 4,
  "nbformat_minor": 0,
  "metadata": {
    "colab": {
      "provenance": [],
      "toc_visible": true,
      "authorship_tag": "ABX9TyPo/NXBHh2E643ikl49LfKn",
      "include_colab_link": true
    },
    "kernelspec": {
      "name": "python3",
      "display_name": "Python 3"
    },
    "language_info": {
      "name": "python"
    }
  },
  "cells": [
    {
      "cell_type": "markdown",
      "metadata": {
        "id": "view-in-github",
        "colab_type": "text"
      },
      "source": [
        "<a href=\"https://colab.research.google.com/github/anup2267/Anup_Repo_Python/blob/main/Python_Assignment_Problem_4.ipynb\" target=\"_parent\"><img src=\"https://colab.research.google.com/assets/colab-badge.svg\" alt=\"Open In Colab\"/></a>"
      ]
    },
    {
      "cell_type": "markdown",
      "source": [
        "**Python_Assignment_Problem_4**"
      ],
      "metadata": {
        "id": "bR6GO4RAccFN"
      }
    },
    {
      "cell_type": "markdown",
      "source": [
        "Write a Python program to reverse a string.\n",
        "\n",
        "Sample String : \"1234abcd\"\n",
        "Expected Output : \"dcba4321\"\n"
      ],
      "metadata": {
        "id": "C2IMBlYjcgie"
      }
    },
    {
      "cell_type": "code",
      "source": [
        "input_string = \"1234abcd\"\n",
        "\n",
        "# Reverse the string using slicing\n",
        "reversed_string = input_string[::-1]\n",
        "\n",
        "print(\"Reversed String:\", reversed_string)\n"
      ],
      "metadata": {
        "colab": {
          "base_uri": "https://localhost:8080/"
        },
        "id": "Xssfz0hBcloi",
        "outputId": "e97ad0e1-1ed7-4103-a8d9-e6ac85d72347"
      },
      "execution_count": null,
      "outputs": [
        {
          "output_type": "stream",
          "name": "stdout",
          "text": [
            "Reversed String: dcba4321\n"
          ]
        }
      ]
    }
  ]
}