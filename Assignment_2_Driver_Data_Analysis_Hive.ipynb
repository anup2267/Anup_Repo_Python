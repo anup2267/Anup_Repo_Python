{
  "nbformat": 4,
  "nbformat_minor": 0,
  "metadata": {
    "colab": {
      "provenance": [],
      "authorship_tag": "ABX9TyOUwl9bsS0U1YdaXEvf78iz",
      "include_colab_link": true
    },
    "kernelspec": {
      "name": "python3",
      "display_name": "Python 3"
    },
    "language_info": {
      "name": "python"
    }
  },
  "cells": [
    {
      "cell_type": "markdown",
      "metadata": {
        "id": "view-in-github",
        "colab_type": "text"
      },
      "source": [
        "<a href=\"https://colab.research.google.com/github/anup2267/Anup_Repo_Python/blob/main/Assignment_2_Driver_Data_Analysis_Hive.ipynb\" target=\"_parent\"><img src=\"https://colab.research.google.com/assets/colab-badge.svg\" alt=\"Open In Colab\"/></a>"
      ]
    },
    {
      "cell_type": "markdown",
      "source": [
        "Driver Table Creation and Data Load from hdfs"
      ],
      "metadata": {
        "id": "MoATb3G7qhCg"
      }
    },
    {
      "cell_type": "code",
      "source": [
        "create database anupdb;\n",
        "use anupdb;\n",
        "\n"
      ],
      "metadata": {
        "id": "3ojTNM5GqhUN"
      },
      "execution_count": null,
      "outputs": []
    },
    {
      "cell_type": "code",
      "source": [
        "CREATE EXTERNAL TABLE driver_info1 (\n",
        "    driverId INT,\n",
        "    name STRING,\n",
        "    ssn STRING,\n",
        "    location STRING,\n",
        "    certified BOOLEAN,\n",
        "    wage_plan STRING\n",
        ")\n",
        "ROW FORMAT DELIMITED\n",
        "FIELDS TERMINATED BY ','\n",
        "STORED AS TEXTFILE\n",
        "tblproperties(\n",
        "\"skip.header.line.count\"=\"1\"\n",
        ");"
      ],
      "metadata": {
        "id": "hvzNnnd9qm6o"
      },
      "execution_count": null,
      "outputs": []
    },
    {
      "cell_type": "code",
      "source": [
        "LOAD DATA local INPATH 'drivers.csv' OVERWRITE INTO TABLE driver_info1;"
      ],
      "metadata": {
        "id": "nFzbg3zFq1JB"
      },
      "execution_count": null,
      "outputs": []
    },
    {
      "cell_type": "markdown",
      "source": [
        "Timeshet table creation and data load"
      ],
      "metadata": {
        "id": "0XnLO72Tq1Zr"
      }
    },
    {
      "cell_type": "code",
      "source": [
        "use anupdb;\n",
        "CREATE EXTERNAL TABLE timesheet_data1 (\n",
        "    driverId INT,\n",
        "    week INT,\n",
        "    hours_logged DOUBLE,\n",
        "    miles_logged DOUBLE\n",
        ")\n",
        "ROW FORMAT DELIMITED\n",
        "FIELDS TERMINATED BY ','\n",
        "STORED AS TEXTFILE;\n",
        "tblproperties(\n",
        "\"skip.header.line.count\"=\"1\"\n",
        ");\n",
        "\n"
      ],
      "metadata": {
        "id": "leVcrrvCrE3g"
      },
      "execution_count": null,
      "outputs": []
    },
    {
      "cell_type": "code",
      "source": [],
      "metadata": {
        "id": "jxkumh4_r-14"
      },
      "execution_count": null,
      "outputs": []
    },
    {
      "cell_type": "code",
      "source": [
        "LOAD DATA local INPATH 'timesheet.csv' OVERWRITE INTO TABLE timesheet_data1;"
      ],
      "metadata": {
        "id": "T5KAn6o_rGdl"
      },
      "execution_count": null,
      "outputs": []
    },
    {
      "cell_type": "markdown",
      "source": [
        "Q1.How many total hours and miles logged by each driver"
      ],
      "metadata": {
        "id": "QeVqT2ozrLW7"
      }
    },
    {
      "cell_type": "code",
      "source": [
        "SELECT\n",
        "    t.driverId,\n",
        "    SUM(t.hours_logged) AS total_hours_logged,\n",
        "    SUM(t.miles_logged) AS total_miles_logged\n",
        "FROM timesheet_data1 t\n",
        "JOIN driver_info1 d ON t.driverId = d.driverId\n",
        "GROUP BY t.driverId;"
      ],
      "metadata": {
        "id": "YPtYRhaQrLn4"
      },
      "execution_count": null,
      "outputs": []
    },
    {
      "cell_type": "markdown",
      "source": [
        "Q2.Print the name of the driver in the above query\n"
      ],
      "metadata": {
        "id": "J84KHOisrL1I"
      }
    },
    {
      "cell_type": "code",
      "source": [
        "SELECT\n",
        "    t.driverId,\n",
        "    d.name,\n",
        "    SUM(t.hours_logged) AS total_hours_logged,\n",
        "    SUM(t.miles_logged) AS total_miles_logged\n",
        "FROM timesheet_data1 t\n",
        "JOIN driver_info1 d ON t.driverId = d.driverId\n",
        "GROUP BY t.driverId, d.name;"
      ],
      "metadata": {
        "id": "9Hye-L3frMBJ"
      },
      "execution_count": null,
      "outputs": []
    },
    {
      "cell_type": "markdown",
      "source": [
        "Write the above query output in to hdfs director"
      ],
      "metadata": {
        "id": "QY07SDwvrMP_"
      }
    },
    {
      "cell_type": "code",
      "source": [
        "INSERT OVERWRITE DIRECTORY '/user/anupruser1/driverinfoquery1'\n",
        "SELECT\n",
        "    t.driverId,\n",
        "    d.name,\n",
        "    SUM(t.hours_logged) AS total_hours_logged,\n",
        "    SUM(t.miles_logged) AS total_miles_logged\n",
        "FROM timesheet_data1 t\n",
        "JOIN driver_info1 d ON t.driverId = d.driverId\n",
        "GROUP BY t.driverId, d.name;\n"
      ],
      "metadata": {
        "id": "vD6EVlKmrMba"
      },
      "execution_count": null,
      "outputs": []
    },
    {
      "cell_type": "markdown",
      "source": [
        "To Check Result file of above Query"
      ],
      "metadata": {
        "id": "LkUAu-DhtbTg"
      }
    },
    {
      "cell_type": "code",
      "source": [
        "hdfs dfs -ls /user/anupruser1/driverinfoquery1\n",
        "\n",
        "hdfs dfs -cat /user/anupruser1/driverinfoquery1/000000_0\n"
      ],
      "metadata": {
        "id": "mdbGrMRRtfn2"
      },
      "execution_count": null,
      "outputs": []
    }
  ]
}