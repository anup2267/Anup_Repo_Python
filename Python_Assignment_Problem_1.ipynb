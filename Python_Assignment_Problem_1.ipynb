{
  "nbformat": 4,
  "nbformat_minor": 0,
  "metadata": {
    "colab": {
      "provenance": [],
      "toc_visible": true,
      "authorship_tag": "ABX9TyPtCvcm1sC+g362jvrQfjV5",
      "include_colab_link": true
    },
    "kernelspec": {
      "name": "python3",
      "display_name": "Python 3"
    },
    "language_info": {
      "name": "python"
    }
  },
  "cells": [
    {
      "cell_type": "markdown",
      "metadata": {
        "id": "view-in-github",
        "colab_type": "text"
      },
      "source": [
        "<a href=\"https://colab.research.google.com/github/anup2267/Anup_Repo_Python/blob/main/Python_Assignment_Problem_1.ipynb\" target=\"_parent\"><img src=\"https://colab.research.google.com/assets/colab-badge.svg\" alt=\"Open In Colab\"/></a>"
      ]
    },
    {
      "cell_type": "markdown",
      "source": [
        "**Python_Assignment_Problem_1**"
      ],
      "metadata": {
        "id": "n_yMQAfKZJ88"
      }
    },
    {
      "cell_type": "markdown",
      "source": [
        "Write a program that computes the net amount of a bank account based on a transaction log from console input. The transaction log / sample input is in the format as shown below:\n",
        "\n",
        "\n",
        "\n",
        "Input\n",
        "\n",
        "log_message = D:100 W:10\n",
        "\n",
        "Output\n",
        "\n",
        "90\n",
        "\n",
        "Input\n",
        "\n",
        "Log_message = D:100 W:200 D:400\n",
        "\n",
        "Output\n",
        "\n",
        "300 (100 - 200 + 400 = 300)"
      ],
      "metadata": {
        "id": "RVMhckqlZLtN"
      }
    },
    {
      "cell_type": "code",
      "source": [
        "balance = 0\n",
        "\n",
        "#log (e.g., D:100 W:10)\n",
        "log_message = input(\"Enter the transaction log : \")\n",
        "\n",
        "# Split the log into transactions\n",
        "transactions = log_message.split()\n",
        "\n",
        "# Process each transaction\n",
        "for transaction in transactions:\n",
        "    # Split the transaction into type (D or W) and amount\n",
        "    transaction_type, amount_str = transaction.split(':')\n",
        "    amount = int(amount_str)\n",
        "\n",
        "    # Update the balance\n",
        "    if transaction_type == 'D':\n",
        "        balance += amount\n",
        "    elif transaction_type == 'W':\n",
        "        balance -= amount\n",
        "\n",
        "\n",
        "print(\"Final balance:\", balance)\n"
      ],
      "metadata": {
        "colab": {
          "base_uri": "https://localhost:8080/"
        },
        "id": "lzZd1GhSZXfy",
        "outputId": "c903fb09-7940-46d3-d78d-6b01af2a1a69"
      },
      "execution_count": null,
      "outputs": [
        {
          "output_type": "stream",
          "name": "stdout",
          "text": [
            "Enter the transaction log :  D:100 W:200 D:400\n",
            "Final balance: 300\n"
          ]
        }
      ]
    }
  ]
}