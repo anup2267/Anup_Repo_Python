{
  "nbformat": 4,
  "nbformat_minor": 0,
  "metadata": {
    "colab": {
      "provenance": [],
      "toc_visible": true,
      "authorship_tag": "ABX9TyNg99VHFrA72tdG3LPZHQjL",
      "include_colab_link": true
    },
    "kernelspec": {
      "name": "python3",
      "display_name": "Python 3"
    },
    "language_info": {
      "name": "python"
    }
  },
  "cells": [
    {
      "cell_type": "markdown",
      "metadata": {
        "id": "view-in-github",
        "colab_type": "text"
      },
      "source": [
        "<a href=\"https://colab.research.google.com/github/anup2267/Anup_Repo_Python/blob/main/python_assignment_problem_10.ipynb\" target=\"_parent\"><img src=\"https://colab.research.google.com/assets/colab-badge.svg\" alt=\"Open In Colab\"/></a>"
      ]
    },
    {
      "cell_type": "markdown",
      "source": [
        "\n",
        "**Python_Assignment_Problem_10**"
      ],
      "metadata": {
        "id": "PSvvILk4YK_d"
      }
    },
    {
      "cell_type": "markdown",
      "source": [
        "Challenge 5: Handling a Bank Account\n",
        "🔴 In this challenge, you will define methods for handling a bank account using concepts of inheritance.\n",
        "Problem statement\n",
        "In this challenge, we will be extending the previous challenge and implementing methods in the parent class and its corresponding child class.\n",
        "The initializers for both classes have been defined for you.\n",
        "Task 1\n",
        "In the Account class, implement the getBalance() method that returns balance.\n",
        "Task 2\n",
        "In the Account class, implement the deposit(amount) method that adds amount to the balance.\n",
        "It does not return anything.\n",
        "Sample input\n",
        "balance = 2000\n",
        "deposit(500)\n",
        "getbalance()\n",
        "Sample output\n",
        "2500\n",
        "Task 3\n",
        "In the Account class, implement the withdrawal(amount) method that subtracts the amount from the balance.\n",
        "It does not return anything.\n",
        "Sample input\n",
        "balance = 2000\n",
        "withdrawal(500)\n",
        "getbalance()\n",
        "Sample output\n",
        "1500\n",
        "Task 4\n",
        "In the SavingsAccount class, implement an interestAmount() method that returns the interest amount of the current balance.\n",
        "Below is the formula for calculating the interest amount:\n",
        "\n",
        "Sample input\n",
        "balance = 2000\n",
        "interestRate = 5\n",
        "interestAmount()\n",
        "Sample output\n",
        "100\n",
        "The following figure shows what the result should logically look like:\n",
        "\n",
        "Coding exercise\n",
        "Note: A new SavingsClass object is initialized at the end of the code and test results will be based on it.\n",
        "class Account:\n",
        "    def __init__(self, title=None, balance=0):\n",
        "        self.title = title\n",
        "        self.balance = balance\n",
        "    \n",
        "    def withdrawal(self, amount):\n",
        "        # write code here\n",
        "        pass\n",
        "\n",
        "    def deposit(self, amount):\n",
        "        # write code here\n",
        "        pass\n",
        "    def getBalance(self):\n",
        "        # write code here\n",
        "        pass\n",
        "\n",
        "class SavingsAccount(Account):\n",
        "    def __init__(self, title=None, balance=0, interestRate=0):\n",
        "            super().__init__(title, balance)\n",
        "            self.interestRate = interestRate\n",
        "    \n",
        "    def interestAmount(self):\n",
        "        # write code here\n",
        "        pass\n",
        "\n",
        "#code to test - do not edit this\n",
        "\n",
        "demo1 = SavingsAccount(\"Ashish\", 2000, 5)   # initializing a SavingsAccount object\n"
      ],
      "metadata": {
        "id": "BW4tHiUfYTSS"
      }
    },
    {
      "cell_type": "code",
      "source": [
        "class Account:\n",
        "    def __init__(self, title=None, balance=0):\n",
        "        self.title = title\n",
        "        self.balance = balance\n",
        "\n",
        "    def withdrawal(self, amount):\n",
        "        self.balance -= amount\n",
        "\n",
        "    def deposit(self, amount):\n",
        "        self.balance += amount\n",
        "\n",
        "    def getBalance(self):\n",
        "        return self.balance\n",
        "\n",
        "\n",
        "class SavingsAccount(Account):\n",
        "    def __init__(self, title=None, balance=0, interestRate=0):\n",
        "        super().__init__(title, balance)\n",
        "        self.interestRate = interestRate\n",
        "\n",
        "    def interestAmount(self):\n",
        "        return (self.balance * self.interestRate) / 100\n",
        "\n",
        "\n",
        "demo1 = SavingsAccount(\"Ashish\", 2000, 5)\n",
        "\n",
        "# Testing methods\n",
        "demo1.deposit(500)\n",
        "print(demo1.getBalance())\n",
        "\n",
        "demo1.withdrawal(500)\n",
        "print(demo1.getBalance())\n",
        "\n",
        "print(demo1.interestAmount())\n"
      ],
      "metadata": {
        "colab": {
          "base_uri": "https://localhost:8080/"
        },
        "id": "xU-bp0_bYc-A",
        "outputId": "5851c857-1acb-447c-b3f0-b14765de4d8c"
      },
      "execution_count": null,
      "outputs": [
        {
          "output_type": "stream",
          "name": "stdout",
          "text": [
            "2500\n",
            "2000\n",
            "100.0\n"
          ]
        }
      ]
    }
  ]
}