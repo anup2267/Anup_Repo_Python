{
  "nbformat": 4,
  "nbformat_minor": 0,
  "metadata": {
    "colab": {
      "provenance": [],
      "toc_visible": true,
      "authorship_tag": "ABX9TyPjQwYR/ZS+15RQL21CMZsI",
      "include_colab_link": true
    },
    "kernelspec": {
      "name": "python3",
      "display_name": "Python 3"
    },
    "language_info": {
      "name": "python"
    }
  },
  "cells": [
    {
      "cell_type": "markdown",
      "metadata": {
        "id": "view-in-github",
        "colab_type": "text"
      },
      "source": [
        "<a href=\"https://colab.research.google.com/github/anup2267/Anup_Repo_Python/blob/main/Python_Assignment_Problem_8.ipynb\" target=\"_parent\"><img src=\"https://colab.research.google.com/assets/colab-badge.svg\" alt=\"Open In Colab\"/></a>"
      ]
    },
    {
      "cell_type": "markdown",
      "source": [
        "**Python_Assignment_Problem_8**"
      ],
      "metadata": {
        "id": "MayxolvEWJjm"
      }
    },
    {
      "cell_type": "markdown",
      "source": [
        "\n",
        "Challenge 3: Implement the Complete Student Class\n",
        "🔴In this challenge, you will implement a student class\n",
        "Problem statement\n",
        "Implement the complete Student class by completing the tasks below\n",
        "Task\n",
        "👉 Implement the following properties as private:\n",
        "• name\n",
        "• rollNumber\n",
        "👉 Include the following methods to get and set the private properties above:\n",
        "• getName()\n",
        "• setName()\n",
        "• getRollNumber()\n",
        "• setRollNumber()\n",
        "👉 Implement this class according to the rules of encapsulation.\n",
        "Input - Checking all the properties and methods\n",
        "Output - Expecting perfectly defined fields and getter/setters\n",
        "Note: Do not use initializers to initialize the properties. Use the set methods to do so.\n",
        "If the setter is not defined properly, the corresponding getter will also generate an error even if the getter is defined properly.\n",
        "Coding exercise\n",
        "class Student:\n",
        "\n",
        "    def setName(self):\n",
        "        pass\n",
        "    def getName(self):\n",
        "        pass\n",
        "    def setRollNumber(self):\n",
        "        pass\n",
        "    def getRollNumber(self):\n",
        "        pass\n"
      ],
      "metadata": {
        "id": "1F4LWRv_WUIm"
      }
    },
    {
      "cell_type": "code",
      "source": [
        "class Student:\n",
        "\n",
        "    def setName(self, name):\n",
        "        self.__name = name\n",
        "\n",
        "    def getName(self):\n",
        "        return self.__name\n",
        "\n",
        "    def setRollNumber(self, rollNumber):\n",
        "        self.__rollNumber = rollNumber\n",
        "\n",
        "    def getRollNumber(self):\n",
        "        return self.__rollNumber\n",
        "\n",
        "\n",
        "student_instance = Student()\n",
        "\n",
        "\n",
        "student_instance.setName(\"John Doe\")\n",
        "student_instance.setRollNumber(\"12345\")\n",
        "\n",
        "\n",
        "print(\"Name:\", student_instance.getName())\n",
        "print(\"Roll Number:\", student_instance.getRollNumber())\n"
      ],
      "metadata": {
        "colab": {
          "base_uri": "https://localhost:8080/"
        },
        "id": "fxNIed3LWebK",
        "outputId": "631656d8-24bc-4652-9c57-388911b4f949"
      },
      "execution_count": null,
      "outputs": [
        {
          "output_type": "stream",
          "name": "stdout",
          "text": [
            "Name: John Doe\n",
            "Roll Number: 12345\n"
          ]
        }
      ]
    },
    {
      "cell_type": "markdown",
      "source": [
        "**Python_Assignment_Problem_9**"
      ],
      "metadata": {
        "id": "pumasSaBjKH3"
      }
    },
    {
      "cell_type": "markdown",
      "source": [
        "Challenge 4: Implement a Banking Account\n",
        "🔴 In this challenge, you will implement a banking account using the concepts of inheritance.\n",
        "Problem statement\n",
        "Implement the basic structure of a parent class, Account, and a child class, SavingsAccount.\n",
        "Task 1\n",
        "👉 Implement properties as instance variables, and set them to None or 0.\n",
        "Account has the following properties:\n",
        "    • title\n",
        "    • Balance\n",
        "SavingsAccount has the following properties:\n",
        "    • interestRate\n",
        "Task 2\n",
        "Create an initializer for Account class. The order of parameters should be the following, where Ashish is the title, and 5000 is the account balance:\n",
        "Account(\"Ashish\", 5000)\n",
        "Task 3\n",
        "Implement properties as instance variables, and set them to None or 0.\n",
        "Create an initializer for the SavingsAccount class using the initializer of the Account class in the order below:\n",
        "Account(\"Ashish\", 5000, 5)\n",
        "Here, Ashish is the title and 5000 is the balance and 5 is the interestRate.\n",
        "\n",
        "Coding exercise\n",
        "class Account:\n",
        "\n",
        "    def __init__(self):\n",
        "        # write your code here\n",
        "        pass\n",
        "\n",
        "class SavingsAccount():\n",
        "\n",
        "    def __init__(self):\n",
        "        # write your code here\n",
        "        Pass\n"
      ],
      "metadata": {
        "id": "uqc3-9HkW1TC"
      }
    },
    {
      "cell_type": "code",
      "source": [
        "class Account:\n",
        "\n",
        "    def __init__(self, title, balance=0):\n",
        "        self.title = title\n",
        "        self.balance = balance\n",
        "\n",
        "class SavingsAccount(Account):\n",
        "\n",
        "    def __init__(self, title, balance=0, interestRate=0):\n",
        "        super().__init__(title, balance)\n",
        "        self.interestRate = interestRate\n",
        "\n",
        "\n",
        "account_obj = Account(\"Ashish\", 5000)\n",
        "print(\"Account Title:\", account_obj.title)\n",
        "print(\"Account Balance:\", account_obj.balance)\n",
        "\n",
        "savings_account_obj = SavingsAccount(\"Ashish\", 5000, 5)\n",
        "print(\"Account Title:\", savings_account_obj.title)\n",
        "print(\"Account Balance:\", savings_account_obj.balance)\n",
        "print(\"Interest Rate:\", savings_account_obj.interestRate)"
      ],
      "metadata": {
        "colab": {
          "base_uri": "https://localhost:8080/"
        },
        "id": "kgUUsH7Ajn7i",
        "outputId": "67e77777-d5cd-4c86-a703-1b487b30c46e"
      },
      "execution_count": 1,
      "outputs": [
        {
          "output_type": "stream",
          "name": "stdout",
          "text": [
            "Account Title: Ashish\n",
            "Account Balance: 5000\n",
            "Account Title: Ashish\n",
            "Account Balance: 5000\n",
            "Interest Rate: 5\n"
          ]
        }
      ]
    }
  ]
}